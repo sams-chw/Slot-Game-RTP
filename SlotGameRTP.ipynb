{
 "cells": [
  {
   "cell_type": "markdown",
   "metadata": {},
   "source": [
    "## Game Design -  Payout Calculation for online slot game"
   ]
  },
  {
   "cell_type": "markdown",
   "metadata": {},
   "source": [
    "In this project, the first game (Vegas Ca$h) in Slotomania, a popular social casino app, is used as an example, to design the game mathematics and probability for the payout calculation of the game. The same approach is applicable to any other slot game. The actual game is very complex due to various features. Therefore, some of the features have been ignored in order to simplify the calculations, however, one can incorporate additional features into the calculations once the foundational solution is developed.\n",
    "\n",
    "In this simplified version, only the Grand jackpot win is considered for the payout calculation. The major, mini and minor wins (as featured in the original game) are ruled out of the Return to Player (RTP) calculations. \n",
    "\n",
    "In the base game, 6 to 14 scattered 'chip' symbols trigger the coid grab feature. In the coid grab feature, if 6 or more 'chip' symbols appear on the screen, then coid values appearing on the scattered symbols are won. Grand jackpot is awarded when 15 'Chip' symbols appear on the screen in the coid grab feature.\n",
    "\n",
    "The 'chip' symbols that trigger the coin grab feature are held in position and all other positions turn into individual spinning reels. 3 free spins are awarded as coin grab feature is triggered. If one or more additional 'chip' appear in any position these are also held and the number of free spins remaining is reset to 3.\n",
    "\n",
    "During the base game, 3 or more scattered bonus symbol (dollar sign) trigger the money case feature. In the money case feature, the number of free games awarded depends on the number of scattered symbols. In the following program, it is assumed that 3, 4 and 5 symbols trigger 6, 9 and 15 free games, respectively. However, the possibility of winning additional 'wild' symbols in the money grab feature (as featured in the original game) is ruled out of the calculations.\n",
    "\n",
    "It is a 50 line game. The Jackpot prize and the bet are assumed to be 250,000 credits and 1 credit per line, respectively. It should be noted that the hits and therefore win increases linearly with additional paylines, hence the bet is similarly increased to keep the RTP constant. Therefore, it is assumed that the RTP is independent of the number of paylines in the game. "
   ]
  },
  {
   "cell_type": "code",
   "execution_count": 1,
   "metadata": {},
   "outputs": [
    {
     "data": {
      "text/plain": [
       "<module 'utils' from 'C:\\\\Users\\\\sams_chw\\\\PycharmProjects\\\\Slotomania\\\\utils.py'>"
      ]
     },
     "execution_count": 1,
     "metadata": {},
     "output_type": "execute_result"
    }
   ],
   "source": [
    "%run utils.py\n",
    "%reload_ext autoreload\n",
    "%autoreload 2\n",
    "\n",
    "import utils\n",
    "import importlib\n",
    "importlib.reload(utils)"
   ]
  },
  {
   "cell_type": "code",
   "execution_count": 2,
   "metadata": {},
   "outputs": [],
   "source": [
    "import pandas as pd\n",
    "import numpy as np\n",
    "from ipynb.fs.full.utils import *\n",
    "\n",
    "reel_count = 5\n",
    "bet = 1"
   ]
  },
  {
   "cell_type": "code",
   "execution_count": 3,
   "metadata": {},
   "outputs": [
    {
     "name": "stdout",
     "output_type": "stream",
     "text": [
      "Symbol distribution:\n",
      "         Reel1  Reel2  Reel3  Reel4  Reel5\n",
      "wild         0      6      6      5      7\n",
      "scatter      3      3      3      2      3\n",
      "chip         5      4      4      5      5\n",
      "man          7      7      5      5      6\n",
      "car          8      7      5      6      7\n",
      "casino       8      5      8      8      8\n",
      "cash         9      6      9      9      9\n",
      "dice        11     10     10     10     10\n",
      "spade       12     11     11     11      9\n",
      "club        12     11     10     13     12\n",
      "diamond     12     13     13     14      8\n",
      "heart       12     14     13     14     12\n",
      "total:  [99, 97, 97, 102, 96]\n",
      "cycle: 9121159872\n"
     ]
    }
   ],
   "source": [
    "df = pd.DataFrame(index=['wild', 'scatter', 'chip', 'man', \n",
    "                        'car', 'casino', 'cash', 'dice', \n",
    "                        'spade', 'club', 'diamond', 'heart'], \n",
    "                  columns=['Reel1', 'Reel2', 'Reel3', 'Reel4', 'Reel5']) \n",
    "df.loc['wild'] = [0,6,6,5,7]\n",
    "df.loc['scatter'] = [3,3,3,2,3]\n",
    "df.loc['chip'] = [5,4,4,5,5]\n",
    "df.loc['man'] = [7,7,5,5,6]\n",
    "df.loc['car'] = [8,7,5,6,7]\n",
    "df.loc['casino'] = [8,5,8,8,8]\n",
    "df.loc['cash'] = [9,6,9,9,9]\n",
    "df.loc['dice'] = [11,10,10,10,10]\n",
    "df.loc['spade'] = [12,11,11,11,9]\n",
    "df.loc['club'] = [12,11,10,13,12]\n",
    "df.loc['diamond'] = [12,13,13,14,8]\n",
    "df.loc['heart'] = [12,14,13,14,12]\n",
    "print(\"Symbol distribution:\")\n",
    "print(df)\n",
    "\n",
    "df_total = [] \n",
    "\n",
    "for col in df.columns:\n",
    "    df_total.append(np.sum(df.loc[:,col]))\n",
    "print(\"total: \", df_total)\n",
    "cycle = np.prod(df_total)\n",
    "print(\"cycle:\", cycle)"
   ]
  },
  {
   "cell_type": "code",
   "execution_count": 4,
   "metadata": {},
   "outputs": [
    {
     "name": "stdout",
     "output_type": "stream",
     "text": [
      "pay table:\n",
      "<==== # of symbols in a pay line ===>\n",
      "           5   4   3  2  1\n",
      "man      150  50  10  2  0\n",
      "car      100  30   5  0  0\n",
      "casino   100  25   5  0  0\n",
      "cash     100  25   5  0  0\n",
      "dice      75  20   5  0  0\n",
      "spade     50  10   5  0  0\n",
      "club      50  10   5  0  0\n",
      "diamond   50  10   5  0  0\n",
      "heart     50  10   5  0  0\n"
     ]
    },
    {
     "data": {
      "text/plain": [
       "Index(['5', '4', '3', '2', '1'], dtype='object')"
      ]
     },
     "execution_count": 4,
     "metadata": {},
     "output_type": "execute_result"
    }
   ],
   "source": [
    "pay_table = pd.DataFrame(index=['man','car', 'casino', \n",
    "                                'cash', 'dice','spade', \n",
    "                                'club', 'diamond', 'heart'], \n",
    "                  columns=['5', '4', '3', '2', '1']) \n",
    "pay_table.loc['man'] = [150,50,10,2,0]\n",
    "pay_table.loc['car'] = [100,30,5,0,0]\n",
    "pay_table.loc['casino'] = [100,25,5,0,0]\n",
    "pay_table.loc['cash'] = [100,25,5,0,0]\n",
    "pay_table.loc['dice'] = [75,20,5,0,0]\n",
    "pay_table.loc['spade'] = [50,10,5,0,0]\n",
    "pay_table.loc['club'] = [50,10,5,0,0]\n",
    "pay_table.loc['diamond'] = [50,10,5,0,0]\n",
    "pay_table.loc['heart'] = [50,10,5,0,0]\n",
    "print(\"pay table:\\n<==== # of symbols in a pay line ===>\")\n",
    "print(pay_table)\n",
    "pay_table.columns"
   ]
  },
  {
   "cell_type": "markdown",
   "metadata": {},
   "source": [
    "### RTP calculation for the base game"
   ]
  },
  {
   "cell_type": "code",
   "execution_count": 5,
   "metadata": {},
   "outputs": [
    {
     "name": "stdout",
     "output_type": "stream",
     "text": [
      "An example of hits for any 3 'scatter' symbols:\n",
      "\n",
      "['~scatter', '~scatter', 'scatter', 'scatter', 'scatter']\n",
      "['~scatter', 'scatter', '~scatter', 'scatter', 'scatter']\n",
      "['~scatter', 'scatter', 'scatter', '~scatter', 'scatter']\n",
      "['~scatter', 'scatter', 'scatter', 'scatter', '~scatter']\n",
      "['scatter', '~scatter', '~scatter', 'scatter', 'scatter']\n",
      "['scatter', '~scatter', 'scatter', '~scatter', 'scatter']\n",
      "['scatter', '~scatter', 'scatter', 'scatter', '~scatter']\n",
      "['scatter', 'scatter', '~scatter', '~scatter', 'scatter']\n",
      "['scatter', 'scatter', '~scatter', 'scatter', '~scatter']\n",
      "['scatter', 'scatter', 'scatter', '~scatter', '~scatter']\n",
      "\n",
      "hits table (for any win) for the basic game in a decreasing order of # occurance, i.e., [5, 4, 3, 2, 1]:\n"
     ]
    },
    {
     "data": {
      "text/plain": [
       "{'man': [130130, 830830, 8840832, 76632192, 0],\n",
       " 'car': [176176, 1031888, 9993984, 0, 0],\n",
       " 'casino': [240240, 1297296, 10526208, 0, 0],\n",
       " 'cash': [362880, 1814400, 13685760, 0, 0],\n",
       " 'dice': [718080, 3336960, 23519232, 0, 0],\n",
       " 'spade': [887808, 4439040, 28631808, 0, 0],\n",
       " 'club': [1116288, 4523904, 26320896, 0, 0],\n",
       " 'diamond': [1234620, 6666948, 34517376, 0, 0],\n",
       " 'heart': [1646160, 6671280, 36334080, 0, 0]}"
      ]
     },
     "execution_count": 5,
     "metadata": {},
     "output_type": "execute_result"
    }
   ],
   "source": [
    "hits_table = {}\n",
    "scatter_temp = []\n",
    "for count in range(3):\n",
    "    scatter_temp.append(product_scatter(df, df_total, (reel_count - count)))\n",
    "print()\n",
    "hits_table['scatter'] = scatter_temp\n",
    "\n",
    "for symbol in list(pay_table.index):\n",
    "    hits_table[symbol] = combine_symbol(df, df_total, pay_table, symbol)\n",
    "\n",
    "hits_table_base={}\n",
    "for key,value in hits_table.items():\n",
    "    temp =  reel_count - len(value)\n",
    "    if key != 'scatter':\n",
    "        hits_table_base[key] = list(np.append(hits_table[key], [0]*temp))\n",
    "\n",
    "print(\"hits table (for any win) for the basic game in a decreasing order of # occurance, i.e., [5, 4, 3, 2, 1]:\")\n",
    "hits_table_base"
   ]
  },
  {
   "cell_type": "code",
   "execution_count": 6,
   "metadata": {},
   "outputs": [
    {
     "name": "stdout",
     "output_type": "stream",
     "text": [
      "hits probability distribution (for any win) for the base game in a decreasing order of # occurance, i.e., [5, 4, 3, 2, 1]:\n",
      "man ['1.4267e-05', '9.1088e-05', '9.6927e-04', '8.4016e-03', '0.0000e+00']\n",
      "car ['1.9315e-05', '1.1313e-04', '1.0957e-03', '0.0000e+00', '0.0000e+00']\n",
      "casino ['2.6339e-05', '1.4223e-04', '1.1540e-03', '0.0000e+00', '0.0000e+00']\n",
      "cash ['3.9784e-05', '1.9892e-04', '1.5004e-03', '0.0000e+00', '0.0000e+00']\n",
      "dice ['7.8727e-05', '3.6585e-04', '2.5785e-03', '0.0000e+00', '0.0000e+00']\n",
      "spade ['9.7335e-05', '4.8667e-04', '3.1391e-03', '0.0000e+00', '0.0000e+00']\n",
      "club ['1.2238e-04', '4.9598e-04', '2.8857e-03', '0.0000e+00', '0.0000e+00']\n",
      "diamond ['1.3536e-04', '7.3093e-04', '3.7843e-03', '0.0000e+00', '0.0000e+00']\n",
      "heart ['1.8048e-04', '7.3141e-04', '3.9835e-03', '0.0000e+00', '0.0000e+00']\n"
     ]
    }
   ],
   "source": [
    "hits_prob={}\n",
    "hits_prob_table_base={}\n",
    "hits_table_total={}\n",
    "hits_table_total_prob={}\n",
    "\n",
    "for key in hits_table.keys():\n",
    "    hits_prob[key] = list((hits_table[key]/cycle))\n",
    "    hits_table_total[key] = np.sum(hits_table[key])\n",
    "    hits_table_total_prob[key] = hits_table_total[key]/cycle\n",
    "\n",
    "for key in hits_table_base.keys():\n",
    "    hits_prob_table_base[key] = list((hits_table_base[key]/cycle))\n",
    "    \n",
    "print(\"hits probability distribution (for any win) for the base game in a decreasing order of # occurance, i.e., [5, 4, 3, 2, 1]:\")\n",
    "hits_prob_table_base\n",
    "\n",
    "for key, value in hits_prob_table_base.items():\n",
    "    print(key, (lambda lst: ['{:0.4e}'.format(x) for x in lst])(value))"
   ]
  },
  {
   "cell_type": "code",
   "execution_count": 7,
   "metadata": {},
   "outputs": [
    {
     "name": "stdout",
     "output_type": "stream",
     "text": [
      "average win for the base game: 0.21871229229562617\n"
     ]
    }
   ],
   "source": [
    "base_win={}\n",
    "base_win_total=[]\n",
    "for key, value in hits_prob_table_base.items():\n",
    "    base_win[key] = np.multiply(pay_table.loc[key].values, value)\n",
    "    base_win_total.append(np.sum(base_win[key]))\n",
    "print(\"average win for the base game:\", np.sum(base_win_total))"
   ]
  },
  {
   "cell_type": "markdown",
   "metadata": {},
   "source": [
    "### RTP calculation for free games"
   ]
  },
  {
   "cell_type": "markdown",
   "metadata": {},
   "source": [
    "Let us assume that the number of free spins for the free games is the same as the base game.\n",
    "\n",
    "If the average win of the base and free game is $B_0$ and $B_1$, respectively, and the base game triggers $n_1$ free games with a trigger probability of $p_1$ per spin, then average number of free games is $n_1p_1$ and the RTP can be calculated as \n",
    "\n",
    "\\begin{equation*}\n",
    "RTP = \n",
    "\\frac{B_0 + B_1n_1p_1}{bet}\n",
    "\\end{equation*}\n",
    "\n",
    "Now if the free game is able to trigger $n_2$ games with probability of $p_2$, then the average number of free spins can be calculated as \n",
    "\n",
    "$$\n",
    "\\begin{equation*}\n",
    "E(freespins) =\n",
    "n_1p_1 + n_1p_1(n_2p_2)^2 + n_1p_1(n_2p_2)^3 + ......\n",
    " =  n_1p_1\\sum_{i=0}^{\\infty}{(n_2p_2)^i}\n",
    " =  n_1p_1\\left(\\frac{1}{1-n_2p_2}\\right)\n",
    "\\end{equation*}\n",
    "$$\n",
    "\n",
    "Hence the final RTP can be found by\n",
    "$$\n",
    "\\begin{equation*}\n",
    "RTP = \n",
    "\\frac{B_0 + B_1n_1p_1\\left(\\frac{1}{1-n2p2}\\right)}{bet}\n",
    "\\end{equation*}\n",
    "$$"
   ]
  },
  {
   "cell_type": "code",
   "execution_count": 8,
   "metadata": {},
   "outputs": [
    {
     "name": "stdout",
     "output_type": "stream",
     "text": [
      "total free game hits, i.e., # appearance of min 3 to max 5 'scatter' symbol:\n",
      " [5 scatters, any 4 scatters, any 3 scatters]:  [1646160, 6671280, 36334080]\n",
      "\n",
      "scatter hits probability distribution:\n",
      " [5 scatters, any 4 scatters, any 3 scatters]:  ['4.3159e-06', '2.3833e-04', '5.1982e-03']\n"
     ]
    }
   ],
   "source": [
    "print(\"total free game hits, i.e., # appearance of min 3 to max 5 'scatter' symbol:\\n\", \n",
    "      \"[5 scatters, any 4 scatters, any 3 scatters]: \", hits_table[symbol])\n",
    "print()\n",
    "print(\"scatter hits probability distribution:\\n\", \n",
    "      \"[5 scatters, any 4 scatters, any 3 scatters]: \", \n",
    "      (lambda lst: ['{:0.4e}'.format(x) for x in lst])(hits_prob['scatter']))"
   ]
  },
  {
   "cell_type": "markdown",
   "metadata": {},
   "source": [
    "In this game, it is assumed that 3, 4 and 5 'scatter' symbols trigger 6, 9 and 15 free games, respectively. First, the expected number of free spins triggered per spin by the base game is the sum of individual triggers, i.e.,\n",
    "\\begin{equation*}\n",
    "E(freespins) =  \n",
    "\\sum{n.p}\n",
    "\\end{equation*}\n"
   ]
  },
  {
   "cell_type": "code",
   "execution_count": 9,
   "metadata": {},
   "outputs": [
    {
     "name": "stdout",
     "output_type": "stream",
     "text": [
      "expected free spins by the base game: 0.03339866028827786\n"
     ]
    }
   ],
   "source": [
    "free_spins_scatter = np.sum(list(np.multiply(hits_prob['scatter'], [15, 9, 6])))\n",
    "print(\"expected free spins by the base game:\", free_spins_scatter)"
   ]
  },
  {
   "cell_type": "code",
   "execution_count": 10,
   "metadata": {},
   "outputs": [
    {
     "name": "stdout",
     "output_type": "stream",
     "text": [
      "RTP for the base game including the free games:  0.2262693866748153\n"
     ]
    }
   ],
   "source": [
    "B0 = np.sum(base_win_total)\n",
    "B1 = B0\n",
    "n1p1 = free_spins_scatter\n",
    "n2p2= n1p1\n",
    "\n",
    "RTP_basic = (B0 + B1*n1p1*(1 / (1-n2p2))) / bet\n",
    "\n",
    "print(\"RTP for the base game including the free games: \", RTP_basic)"
   ]
  },
  {
   "cell_type": "markdown",
   "metadata": {},
   "source": [
    "### RTP calculation for the coid grab feature"
   ]
  },
  {
   "cell_type": "markdown",
   "metadata": {},
   "source": [
    "The coin values for the 'chip' symbol are considered to be 5000, 3500, 2500, 1500, 1000, 500 and 100 for the following payout calculations. It is to be noted that, if more features are added to the game, then the coin values may be fine tuned in order to obtain the desired payout percentage. "
   ]
  },
  {
   "cell_type": "code",
   "execution_count": 11,
   "metadata": {},
   "outputs": [
    {
     "name": "stdout",
     "output_type": "stream",
     "text": [
      "'chip' distribution for different coin values:\n",
      "\n",
      "      Reel1  Reel2  Reel3  Reel4  Reel5\n",
      "5000      4      4      4      4      4\n",
      "3500      6      6      6      6      6\n",
      "2500      8      8      8      8      8\n",
      "1500     10     10     10     10     10\n",
      "1000     12     12     12     12     12\n",
      "500      14     14     14     14     14\n",
      "100      16     16     16     16     16\n",
      "total 'chip' count:  [70, 70, 70, 70, 70]\n",
      "chip cycle:  1680700000\n"
     ]
    }
   ],
   "source": [
    "df_chip = pd.DataFrame(index=['5000', '3500', '2500',\n",
    "                             '1500', '1000', '500', '100'], \n",
    "                  columns=['Reel1', 'Reel2', 'Reel3', 'Reel4', 'Reel5']) \n",
    "df_chip.loc['5000'] =[4]*reel_count\n",
    "df_chip.loc['3500'] = [6]*reel_count\n",
    "df_chip.loc['2500'] = [8]*reel_count\n",
    "df_chip.loc['1500'] = [10]*reel_count\n",
    "df_chip.loc['1000'] = [12]*reel_count\n",
    "df_chip.loc['500'] = [14]*reel_count\n",
    "df_chip.loc['100'] = [16]*reel_count\n",
    "print(\"'chip' distribution for different coin values:\\n\")\n",
    "print(df_chip)\n",
    "\n",
    "df_chip_total = [] \n",
    "\n",
    "for col in df_chip.columns:\n",
    "    df_chip_total.append(np.sum(df_chip.loc[:,col]))\n",
    "print(\"total 'chip' count: \", [df_chip_total[0]]*5)\n",
    "chip_cycle = np.prod(df_chip_total)\n",
    "print(\"chip cycle: \", chip_cycle)"
   ]
  },
  {
   "cell_type": "code",
   "execution_count": 12,
   "metadata": {},
   "outputs": [
    {
     "name": "stdout",
     "output_type": "stream",
     "text": [
      "Coin grab feature is triggered if minimum of 6 'chip' symbols appear on the screen.\n",
      "An example of how 6 'chip' symbols may appear on the screen and their corresponding probability is shown below.\n",
      "\n",
      "There are 135 ways 6 chips can be combined:\n",
      "\n",
      "(3, 3, 0, 0, 0) :  ['3.8253e-04', '1.6278e-04', '8.7629e-01', '8.5294e-01', '8.4375e-01']\n",
      "(3, 0, 3, 0, 0) :  ['3.8253e-04', '8.7629e-01', '1.6278e-04', '8.5294e-01', '8.4375e-01']\n",
      "(3, 0, 0, 3, 0) :  ['3.8253e-04', '8.7629e-01', '8.7629e-01', '3.4945e-04', '8.4375e-01']\n",
      "(3, 0, 0, 0, 3) :  ['3.8253e-04', '8.7629e-01', '8.7629e-01', '8.5294e-01', '4.1993e-04']\n",
      "(0, 3, 3, 0, 0) :  ['8.4848e-01', '1.6278e-04', '1.6278e-04', '8.5294e-01', '8.4375e-01']\n",
      "(0, 3, 0, 3, 0) :  ['8.4848e-01', '1.6278e-04', '8.7629e-01', '3.4945e-04', '8.4375e-01']\n",
      "(0, 3, 0, 0, 3) :  ['8.4848e-01', '1.6278e-04', '8.7629e-01', '8.5294e-01', '4.1993e-04']\n",
      "(0, 0, 3, 3, 0) :  ['8.4848e-01', '8.7629e-01', '1.6278e-04', '3.4945e-04', '8.4375e-01']\n",
      "(0, 0, 3, 0, 3) :  ['8.4848e-01', '8.7629e-01', '1.6278e-04', '8.5294e-01', '4.1993e-04']\n",
      "(0, 0, 0, 3, 3) :  ['8.4848e-01', '8.7629e-01', '8.7629e-01', '3.4945e-04', '4.1993e-04']\n",
      "(3, 2, 1, 0, 0) :  ['3.8253e-04', '7.7320e-03', '1.2371e-01', '8.5294e-01', '8.4375e-01']\n",
      "(3, 2, 0, 1, 0) :  ['3.8253e-04', '7.7320e-03', '8.7629e-01', '1.4706e-01', '8.4375e-01']\n",
      "(3, 2, 0, 0, 1) :  ['3.8253e-04', '7.7320e-03', '8.7629e-01', '8.5294e-01', '1.5625e-01']\n",
      "(3, 1, 2, 0, 0) :  ['3.8253e-04', '1.2371e-01', '7.7320e-03', '8.5294e-01', '8.4375e-01']\n",
      "(3, 1, 0, 2, 0) :  ['3.8253e-04', '1.2371e-01', '8.7629e-01', '1.1648e-02', '8.4375e-01']\n",
      "(3, 1, 0, 0, 2) :  ['3.8253e-04', '1.2371e-01', '8.7629e-01', '8.5294e-01', '1.3158e-02']\n",
      "(3, 0, 2, 1, 0) :  ['3.8253e-04', '8.7629e-01', '7.7320e-03', '1.4706e-01', '8.4375e-01']\n",
      "(3, 0, 2, 0, 1) :  ['3.8253e-04', '8.7629e-01', '7.7320e-03', '8.5294e-01', '1.5625e-01']\n",
      "(3, 0, 1, 2, 0) :  ['3.8253e-04', '8.7629e-01', '1.2371e-01', '1.1648e-02', '8.4375e-01']\n",
      "(3, 0, 1, 0, 2) :  ['3.8253e-04', '8.7629e-01', '1.2371e-01', '8.5294e-01', '1.3158e-02']\n",
      "(3, 0, 0, 2, 1) :  ['3.8253e-04', '8.7629e-01', '8.7629e-01', '1.1648e-02', '1.5625e-01']\n",
      "(3, 0, 0, 1, 2) :  ['3.8253e-04', '8.7629e-01', '8.7629e-01', '1.4706e-01', '1.3158e-02']\n",
      "(2, 3, 1, 0, 0) :  ['1.2369e-02', '1.6278e-04', '1.2371e-01', '8.5294e-01', '8.4375e-01']\n",
      "(2, 3, 0, 1, 0) :  ['1.2369e-02', '1.6278e-04', '8.7629e-01', '1.4706e-01', '8.4375e-01']\n",
      "(2, 3, 0, 0, 1) :  ['1.2369e-02', '1.6278e-04', '8.7629e-01', '8.5294e-01', '1.5625e-01']\n",
      "(2, 1, 3, 0, 0) :  ['1.2369e-02', '1.2371e-01', '1.6278e-04', '8.5294e-01', '8.4375e-01']\n",
      "(2, 1, 0, 3, 0) :  ['1.2369e-02', '1.2371e-01', '8.7629e-01', '3.4945e-04', '8.4375e-01']\n",
      "(2, 1, 0, 0, 3) :  ['1.2369e-02', '1.2371e-01', '8.7629e-01', '8.5294e-01', '4.1993e-04']\n",
      "(2, 0, 3, 1, 0) :  ['1.2369e-02', '8.7629e-01', '1.6278e-04', '1.4706e-01', '8.4375e-01']\n",
      "(2, 0, 3, 0, 1) :  ['1.2369e-02', '8.7629e-01', '1.6278e-04', '8.5294e-01', '1.5625e-01']\n",
      "(2, 0, 1, 3, 0) :  ['1.2369e-02', '8.7629e-01', '1.2371e-01', '3.4945e-04', '8.4375e-01']\n",
      "(2, 0, 1, 0, 3) :  ['1.2369e-02', '8.7629e-01', '1.2371e-01', '8.5294e-01', '4.1993e-04']\n",
      "(2, 0, 0, 3, 1) :  ['1.2369e-02', '8.7629e-01', '8.7629e-01', '3.4945e-04', '1.5625e-01']\n",
      "(2, 0, 0, 1, 3) :  ['1.2369e-02', '8.7629e-01', '8.7629e-01', '1.4706e-01', '4.1993e-04']\n",
      "(1, 3, 2, 0, 0) :  ['1.5152e-01', '1.6278e-04', '7.7320e-03', '8.5294e-01', '8.4375e-01']\n",
      "(1, 3, 0, 2, 0) :  ['1.5152e-01', '1.6278e-04', '8.7629e-01', '1.1648e-02', '8.4375e-01']\n",
      "(1, 3, 0, 0, 2) :  ['1.5152e-01', '1.6278e-04', '8.7629e-01', '8.5294e-01', '1.3158e-02']\n",
      "(1, 2, 3, 0, 0) :  ['1.5152e-01', '7.7320e-03', '1.6278e-04', '8.5294e-01', '8.4375e-01']\n",
      "(1, 2, 0, 3, 0) :  ['1.5152e-01', '7.7320e-03', '8.7629e-01', '3.4945e-04', '8.4375e-01']\n",
      "(1, 2, 0, 0, 3) :  ['1.5152e-01', '7.7320e-03', '8.7629e-01', '8.5294e-01', '4.1993e-04']\n",
      "(1, 0, 3, 2, 0) :  ['1.5152e-01', '8.7629e-01', '1.6278e-04', '1.1648e-02', '8.4375e-01']\n",
      "(1, 0, 3, 0, 2) :  ['1.5152e-01', '8.7629e-01', '1.6278e-04', '8.5294e-01', '1.3158e-02']\n",
      "(1, 0, 2, 3, 0) :  ['1.5152e-01', '8.7629e-01', '7.7320e-03', '3.4945e-04', '8.4375e-01']\n",
      "(1, 0, 2, 0, 3) :  ['1.5152e-01', '8.7629e-01', '7.7320e-03', '8.5294e-01', '4.1993e-04']\n",
      "(1, 0, 0, 3, 2) :  ['1.5152e-01', '8.7629e-01', '8.7629e-01', '3.4945e-04', '1.3158e-02']\n",
      "(1, 0, 0, 2, 3) :  ['1.5152e-01', '8.7629e-01', '8.7629e-01', '1.1648e-02', '4.1993e-04']\n",
      "(0, 3, 2, 1, 0) :  ['8.4848e-01', '1.6278e-04', '7.7320e-03', '1.4706e-01', '8.4375e-01']\n",
      "(0, 3, 2, 0, 1) :  ['8.4848e-01', '1.6278e-04', '7.7320e-03', '8.5294e-01', '1.5625e-01']\n",
      "(0, 3, 1, 2, 0) :  ['8.4848e-01', '1.6278e-04', '1.2371e-01', '1.1648e-02', '8.4375e-01']\n",
      "(0, 3, 1, 0, 2) :  ['8.4848e-01', '1.6278e-04', '1.2371e-01', '8.5294e-01', '1.3158e-02']\n",
      "(0, 3, 0, 2, 1) :  ['8.4848e-01', '1.6278e-04', '8.7629e-01', '1.1648e-02', '1.5625e-01']\n",
      "(0, 3, 0, 1, 2) :  ['8.4848e-01', '1.6278e-04', '8.7629e-01', '1.4706e-01', '1.3158e-02']\n",
      "(0, 2, 3, 1, 0) :  ['8.4848e-01', '7.7320e-03', '1.6278e-04', '1.4706e-01', '8.4375e-01']\n",
      "(0, 2, 3, 0, 1) :  ['8.4848e-01', '7.7320e-03', '1.6278e-04', '8.5294e-01', '1.5625e-01']\n",
      "(0, 2, 1, 3, 0) :  ['8.4848e-01', '7.7320e-03', '1.2371e-01', '3.4945e-04', '8.4375e-01']\n",
      "(0, 2, 1, 0, 3) :  ['8.4848e-01', '7.7320e-03', '1.2371e-01', '8.5294e-01', '4.1993e-04']\n",
      "(0, 2, 0, 3, 1) :  ['8.4848e-01', '7.7320e-03', '8.7629e-01', '3.4945e-04', '1.5625e-01']\n",
      "(0, 2, 0, 1, 3) :  ['8.4848e-01', '7.7320e-03', '8.7629e-01', '1.4706e-01', '4.1993e-04']\n",
      "(0, 1, 3, 2, 0) :  ['8.4848e-01', '1.2371e-01', '1.6278e-04', '1.1648e-02', '8.4375e-01']\n",
      "(0, 1, 3, 0, 2) :  ['8.4848e-01', '1.2371e-01', '1.6278e-04', '8.5294e-01', '1.3158e-02']\n",
      "(0, 1, 2, 3, 0) :  ['8.4848e-01', '1.2371e-01', '7.7320e-03', '3.4945e-04', '8.4375e-01']\n",
      "(0, 1, 2, 0, 3) :  ['8.4848e-01', '1.2371e-01', '7.7320e-03', '8.5294e-01', '4.1993e-04']\n",
      "(0, 1, 0, 3, 2) :  ['8.4848e-01', '1.2371e-01', '8.7629e-01', '3.4945e-04', '1.3158e-02']\n",
      "(0, 1, 0, 2, 3) :  ['8.4848e-01', '1.2371e-01', '8.7629e-01', '1.1648e-02', '4.1993e-04']\n",
      "(0, 0, 3, 2, 1) :  ['8.4848e-01', '8.7629e-01', '1.6278e-04', '1.1648e-02', '1.5625e-01']\n",
      "(0, 0, 3, 1, 2) :  ['8.4848e-01', '8.7629e-01', '1.6278e-04', '1.4706e-01', '1.3158e-02']\n",
      "(0, 0, 2, 3, 1) :  ['8.4848e-01', '8.7629e-01', '7.7320e-03', '3.4945e-04', '1.5625e-01']\n",
      "(0, 0, 2, 1, 3) :  ['8.4848e-01', '8.7629e-01', '7.7320e-03', '1.4706e-01', '4.1993e-04']\n",
      "(0, 0, 1, 3, 2) :  ['8.4848e-01', '8.7629e-01', '1.2371e-01', '3.4945e-04', '1.3158e-02']\n",
      "(0, 0, 1, 2, 3) :  ['8.4848e-01', '8.7629e-01', '1.2371e-01', '1.1648e-02', '4.1993e-04']\n",
      "(3, 1, 1, 1, 0) :  ['3.8253e-04', '1.2371e-01', '1.2371e-01', '1.4706e-01', '8.4375e-01']\n",
      "(3, 1, 1, 0, 1) :  ['3.8253e-04', '1.2371e-01', '1.2371e-01', '8.5294e-01', '1.5625e-01']\n",
      "(3, 1, 0, 1, 1) :  ['3.8253e-04', '1.2371e-01', '8.7629e-01', '1.4706e-01', '1.5625e-01']\n",
      "(3, 0, 1, 1, 1) :  ['3.8253e-04', '8.7629e-01', '1.2371e-01', '1.4706e-01', '1.5625e-01']\n",
      "(1, 3, 1, 1, 0) :  ['1.5152e-01', '1.6278e-04', '1.2371e-01', '1.4706e-01', '8.4375e-01']\n",
      "(1, 3, 1, 0, 1) :  ['1.5152e-01', '1.6278e-04', '1.2371e-01', '8.5294e-01', '1.5625e-01']\n",
      "(1, 3, 0, 1, 1) :  ['1.5152e-01', '1.6278e-04', '8.7629e-01', '1.4706e-01', '1.5625e-01']\n",
      "(1, 1, 3, 1, 0) :  ['1.5152e-01', '1.2371e-01', '1.6278e-04', '1.4706e-01', '8.4375e-01']\n",
      "(1, 1, 3, 0, 1) :  ['1.5152e-01', '1.2371e-01', '1.6278e-04', '8.5294e-01', '1.5625e-01']\n",
      "(1, 1, 1, 3, 0) :  ['1.5152e-01', '1.2371e-01', '1.2371e-01', '3.4945e-04', '8.4375e-01']\n",
      "(1, 1, 1, 0, 3) :  ['1.5152e-01', '1.2371e-01', '1.2371e-01', '8.5294e-01', '4.1993e-04']\n",
      "(1, 1, 0, 3, 1) :  ['1.5152e-01', '1.2371e-01', '8.7629e-01', '3.4945e-04', '1.5625e-01']\n",
      "(1, 1, 0, 1, 3) :  ['1.5152e-01', '1.2371e-01', '8.7629e-01', '1.4706e-01', '4.1993e-04']\n",
      "(1, 0, 3, 1, 1) :  ['1.5152e-01', '8.7629e-01', '1.6278e-04', '1.4706e-01', '1.5625e-01']\n",
      "(1, 0, 1, 3, 1) :  ['1.5152e-01', '8.7629e-01', '1.2371e-01', '3.4945e-04', '1.5625e-01']\n",
      "(1, 0, 1, 1, 3) :  ['1.5152e-01', '8.7629e-01', '1.2371e-01', '1.4706e-01', '4.1993e-04']\n",
      "(0, 3, 1, 1, 1) :  ['8.4848e-01', '1.6278e-04', '1.2371e-01', '1.4706e-01', '1.5625e-01']\n",
      "(0, 1, 3, 1, 1) :  ['8.4848e-01', '1.2371e-01', '1.6278e-04', '1.4706e-01', '1.5625e-01']\n",
      "(0, 1, 1, 3, 1) :  ['8.4848e-01', '1.2371e-01', '1.2371e-01', '3.4945e-04', '1.5625e-01']\n",
      "(0, 1, 1, 1, 3) :  ['8.4848e-01', '1.2371e-01', '1.2371e-01', '1.4706e-01', '4.1993e-04']\n",
      "(2, 2, 2, 0, 0) :  ['1.2369e-02', '7.7320e-03', '7.7320e-03', '8.5294e-01', '8.4375e-01']\n",
      "(2, 2, 0, 2, 0) :  ['1.2369e-02', '7.7320e-03', '8.7629e-01', '1.1648e-02', '8.4375e-01']\n",
      "(2, 2, 0, 0, 2) :  ['1.2369e-02', '7.7320e-03', '8.7629e-01', '8.5294e-01', '1.3158e-02']\n",
      "(2, 0, 2, 2, 0) :  ['1.2369e-02', '8.7629e-01', '7.7320e-03', '1.1648e-02', '8.4375e-01']\n",
      "(2, 0, 2, 0, 2) :  ['1.2369e-02', '8.7629e-01', '7.7320e-03', '8.5294e-01', '1.3158e-02']\n",
      "(2, 0, 0, 2, 2) :  ['1.2369e-02', '8.7629e-01', '8.7629e-01', '1.1648e-02', '1.3158e-02']\n",
      "(0, 2, 2, 2, 0) :  ['8.4848e-01', '7.7320e-03', '7.7320e-03', '1.1648e-02', '8.4375e-01']\n",
      "(0, 2, 2, 0, 2) :  ['8.4848e-01', '7.7320e-03', '7.7320e-03', '8.5294e-01', '1.3158e-02']\n",
      "(0, 2, 0, 2, 2) :  ['8.4848e-01', '7.7320e-03', '8.7629e-01', '1.1648e-02', '1.3158e-02']\n",
      "(0, 0, 2, 2, 2) :  ['8.4848e-01', '8.7629e-01', '7.7320e-03', '1.1648e-02', '1.3158e-02']\n",
      "(2, 2, 1, 1, 0) :  ['1.2369e-02', '7.7320e-03', '1.2371e-01', '1.4706e-01', '8.4375e-01']\n",
      "(2, 2, 1, 0, 1) :  ['1.2369e-02', '7.7320e-03', '1.2371e-01', '8.5294e-01', '1.5625e-01']\n",
      "(2, 2, 0, 1, 1) :  ['1.2369e-02', '7.7320e-03', '8.7629e-01', '1.4706e-01', '1.5625e-01']\n",
      "(2, 1, 2, 1, 0) :  ['1.2369e-02', '1.2371e-01', '7.7320e-03', '1.4706e-01', '8.4375e-01']\n",
      "(2, 1, 2, 0, 1) :  ['1.2369e-02', '1.2371e-01', '7.7320e-03', '8.5294e-01', '1.5625e-01']\n",
      "(2, 1, 1, 2, 0) :  ['1.2369e-02', '1.2371e-01', '1.2371e-01', '1.1648e-02', '8.4375e-01']\n",
      "(2, 1, 1, 0, 2) :  ['1.2369e-02', '1.2371e-01', '1.2371e-01', '8.5294e-01', '1.3158e-02']\n",
      "(2, 1, 0, 2, 1) :  ['1.2369e-02', '1.2371e-01', '8.7629e-01', '1.1648e-02', '1.5625e-01']\n",
      "(2, 1, 0, 1, 2) :  ['1.2369e-02', '1.2371e-01', '8.7629e-01', '1.4706e-01', '1.3158e-02']\n",
      "(2, 0, 2, 1, 1) :  ['1.2369e-02', '8.7629e-01', '7.7320e-03', '1.4706e-01', '1.5625e-01']\n",
      "(2, 0, 1, 2, 1) :  ['1.2369e-02', '8.7629e-01', '1.2371e-01', '1.1648e-02', '1.5625e-01']\n",
      "(2, 0, 1, 1, 2) :  ['1.2369e-02', '8.7629e-01', '1.2371e-01', '1.4706e-01', '1.3158e-02']\n",
      "(1, 2, 2, 1, 0) :  ['1.5152e-01', '7.7320e-03', '7.7320e-03', '1.4706e-01', '8.4375e-01']\n",
      "(1, 2, 2, 0, 1) :  ['1.5152e-01', '7.7320e-03', '7.7320e-03', '8.5294e-01', '1.5625e-01']\n",
      "(1, 2, 1, 2, 0) :  ['1.5152e-01', '7.7320e-03', '1.2371e-01', '1.1648e-02', '8.4375e-01']\n",
      "(1, 2, 1, 0, 2) :  ['1.5152e-01', '7.7320e-03', '1.2371e-01', '8.5294e-01', '1.3158e-02']\n",
      "(1, 2, 0, 2, 1) :  ['1.5152e-01', '7.7320e-03', '8.7629e-01', '1.1648e-02', '1.5625e-01']\n",
      "(1, 2, 0, 1, 2) :  ['1.5152e-01', '7.7320e-03', '8.7629e-01', '1.4706e-01', '1.3158e-02']\n",
      "(1, 1, 2, 2, 0) :  ['1.5152e-01', '1.2371e-01', '7.7320e-03', '1.1648e-02', '8.4375e-01']\n",
      "(1, 1, 2, 0, 2) :  ['1.5152e-01', '1.2371e-01', '7.7320e-03', '8.5294e-01', '1.3158e-02']\n",
      "(1, 1, 0, 2, 2) :  ['1.5152e-01', '1.2371e-01', '8.7629e-01', '1.1648e-02', '1.3158e-02']\n",
      "(1, 0, 2, 2, 1) :  ['1.5152e-01', '8.7629e-01', '7.7320e-03', '1.1648e-02', '1.5625e-01']\n",
      "(1, 0, 2, 1, 2) :  ['1.5152e-01', '8.7629e-01', '7.7320e-03', '1.4706e-01', '1.3158e-02']\n",
      "(1, 0, 1, 2, 2) :  ['1.5152e-01', '8.7629e-01', '1.2371e-01', '1.1648e-02', '1.3158e-02']\n",
      "(0, 2, 2, 1, 1) :  ['8.4848e-01', '7.7320e-03', '7.7320e-03', '1.4706e-01', '1.5625e-01']\n",
      "(0, 2, 1, 2, 1) :  ['8.4848e-01', '7.7320e-03', '1.2371e-01', '1.1648e-02', '1.5625e-01']\n",
      "(0, 2, 1, 1, 2) :  ['8.4848e-01', '7.7320e-03', '1.2371e-01', '1.4706e-01', '1.3158e-02']\n",
      "(0, 1, 2, 2, 1) :  ['8.4848e-01', '1.2371e-01', '7.7320e-03', '1.1648e-02', '1.5625e-01']\n",
      "(0, 1, 2, 1, 2) :  ['8.4848e-01', '1.2371e-01', '7.7320e-03', '1.4706e-01', '1.3158e-02']\n",
      "(0, 1, 1, 2, 2) :  ['8.4848e-01', '1.2371e-01', '1.2371e-01', '1.1648e-02', '1.3158e-02']\n",
      "(2, 1, 1, 1, 1) :  ['1.2369e-02', '1.2371e-01', '1.2371e-01', '1.4706e-01', '1.5625e-01']\n",
      "(1, 2, 1, 1, 1) :  ['1.5152e-01', '7.7320e-03', '1.2371e-01', '1.4706e-01', '1.5625e-01']\n",
      "(1, 1, 2, 1, 1) :  ['1.5152e-01', '1.2371e-01', '7.7320e-03', '1.4706e-01', '1.5625e-01']\n",
      "(1, 1, 1, 2, 1) :  ['1.5152e-01', '1.2371e-01', '1.2371e-01', '1.1648e-02', '1.5625e-01']\n",
      "(1, 1, 1, 1, 2) :  ['1.5152e-01', '1.2371e-01', '1.2371e-01', '1.4706e-01', '1.3158e-02']\n"
     ]
    }
   ],
   "source": [
    "chip_hits_table, chip_hits_length = combine_chip(6)\n",
    "print(\"Coin grab feature is triggered if minimum of 6 'chip' symbols appear on the screen.\")\n",
    "print(\"An example of how 6 'chip' symbols may appear on the screen and \" \n",
    "      \"their corresponding probability is shown below.\\n\")\n",
    "print(\"There are {} ways 6 chips can be combined:\".format(chip_hits_length))\n",
    "print()\n",
    "for key, value in chip_prob_dist(df, df_total, 6).items():\n",
    "    print(chip_hits_table[key], \": \", (lambda lst: ['{:0.4e}'.format(x) for x in lst])(value))"
   ]
  },
  {
   "cell_type": "code",
   "execution_count": 13,
   "metadata": {},
   "outputs": [
    {
     "name": "stdout",
     "output_type": "stream",
     "text": [
      "chip counts can be 3, 2, 1 or 0 in a reel.\n",
      "As an example, # of ways any 2 coin values in a reel can be combined:\n",
      "\n",
      "0 [('5000', '5000')]\n",
      "1 [('5000', '3500'), ('3500', '5000')]\n",
      "2 [('5000', '2500'), ('2500', '5000')]\n",
      "3 [('5000', '1500'), ('1500', '5000')]\n",
      "4 [('5000', '1000'), ('1000', '5000')]\n",
      "5 [('5000', '500'), ('500', '5000')]\n",
      "6 [('5000', '100'), ('100', '5000')]\n",
      "7 [('3500', '3500')]\n",
      "8 [('3500', '2500'), ('2500', '3500')]\n",
      "9 [('3500', '1500'), ('1500', '3500')]\n",
      "10 [('3500', '1000'), ('1000', '3500')]\n",
      "11 [('3500', '500'), ('500', '3500')]\n",
      "12 [('3500', '100'), ('100', '3500')]\n",
      "13 [('2500', '2500')]\n",
      "14 [('2500', '1500'), ('1500', '2500')]\n",
      "15 [('2500', '1000'), ('1000', '2500')]\n",
      "16 [('2500', '500'), ('500', '2500')]\n",
      "17 [('2500', '100'), ('100', '2500')]\n",
      "18 [('1500', '1500')]\n",
      "19 [('1500', '1000'), ('1000', '1500')]\n",
      "20 [('1500', '500'), ('500', '1500')]\n",
      "21 [('1500', '100'), ('100', '1500')]\n",
      "22 [('1000', '1000')]\n",
      "23 [('1000', '500'), ('500', '1000')]\n",
      "24 [('1000', '100'), ('100', '1000')]\n",
      "25 [('500', '500')]\n",
      "26 [('500', '100'), ('100', '500')]\n",
      "27 [('100', '100')]\n"
     ]
    }
   ],
   "source": [
    "df_chip_ix_combo, df_chip_ix = combine_coin_values(df_chip, 2)\n",
    "print(\"chip counts can be 3, 2, 1 or 0 in a reel.\")\n",
    "print(\"As an example, # of ways any 2 coin values in a reel can be combined:\\n\")\n",
    "for key,value in df_chip_ix_combo.items():\n",
    "    print(key, value)"
   ]
  },
  {
   "cell_type": "code",
   "execution_count": 14,
   "metadata": {},
   "outputs": [
    {
     "name": "stdout",
     "output_type": "stream",
     "text": [
      "Chip probability distribution (for a total occurance of min=6 to max=15 symbols):\n",
      "\n",
      "6 :  0.000115419464628714\n",
      "7 :  1.0079900157390907e-05\n",
      "8 :  7.02394550403594e-07\n",
      "9 :  3.8977540953559674e-08\n",
      "10 :  1.705177267264151e-09\n",
      "11 :  5.763671236316754e-11\n",
      "12 :  1.4536958770515434e-12\n",
      "13 :  2.575486193399213e-14\n",
      "14 :  2.855770663993313e-16\n",
      "15 :  1.487380554163184e-18\n"
     ]
    }
   ],
   "source": [
    "# 'chip_prob_dist_combined' returns the combined probability of each of the possible \n",
    "#  combinations that may appear on the screen for a given number of chip counts\n",
    "#  (for a total of min=6 to max=15 chip 'symbols') in a reel. \n",
    "\n",
    "chip_payout_sum = 0\n",
    "chip_prob={}\n",
    "for i in range(6,16):\n",
    "    chip_prob_combined = chip_prob_dist_combined(df, df_total, i)\n",
    "    prob_combined=0\n",
    "    for key, value in chip_prob_combined.items():\n",
    "        prob_combined += value\n",
    "    chip_prob[i] = prob_combined\n",
    "print(\"Chip probability distribution (for a total occurance of min=6 to max=15 symbols):\\n\")\n",
    "for key, value in chip_prob.items():\n",
    "    print(key, \": \", value)"
   ]
  },
  {
   "cell_type": "code",
   "execution_count": 15,
   "metadata": {},
   "outputs": [],
   "source": [
    "# 'chip_payout_combined' returns average win for a given number of \n",
    "# 'chip' symbol occurances (from min=6 to max=15) taking into account all\n",
    "#  possible coin value combinations calculated above.\n",
    "\n",
    "chip_win_tmp = 0\n",
    "chip_prob_tmp = 0\n",
    "for i in range(6,16):\n",
    "    chip_prob_combined = chip_prob_dist_combined(df, df_total, i)\n",
    "    chip_win_tmp += chip_payout_combined(df_chip, df_chip_total, chip_prob_combined, i)\n",
    "    chip_prob_tmp += chip_prob[i]"
   ]
  },
  {
   "cell_type": "markdown",
   "metadata": {},
   "source": [
    "In this game, 3 free spins are awarded as coin grab feature is triggered. If one or more additional 'chip' appear in any position these are also held and the number of free spins remaining is reset to 3. If the average win for the coin grab feature and free game during the coin grab feature are $B_0$ and $B_1$, respectively, then the RTP for the coin grab feature can be calculated as follows (same as what has been explained previously)."
   ]
  },
  {
   "cell_type": "code",
   "execution_count": 16,
   "metadata": {},
   "outputs": [
    {
     "data": {
      "text/plain": [
       "0.6612458042569189"
      ]
     },
     "execution_count": 16,
     "metadata": {},
     "output_type": "execute_result"
    }
   ],
   "source": [
    "B0 = chip_win_tmp\n",
    "B1 = B0\n",
    "p1 = chip_prob_tmp\n",
    "n1p1 = 3*p1\n",
    "n2p2 = n1p1\n",
    "\n",
    "RTP_coin_grabber = (B0 + B1*n1p1*(1 / (1-n2p2))) / bet\n",
    "RTP_coin_grabber"
   ]
  },
  {
   "cell_type": "code",
   "execution_count": 17,
   "metadata": {},
   "outputs": [
    {
     "name": "stdout",
     "output_type": "stream",
     "text": [
      "The final payout percentage: 88.7515%\n"
     ]
    }
   ],
   "source": [
    "Final_RTP = RTP_basic + RTP_coin_grabber\n",
    "print(\"The final payout percentage: {}%\".format(np.round(Final_RTP*100,4)))"
   ]
  }
 ],
 "metadata": {
  "celltoolbar": "Raw Cell Format",
  "kernelspec": {
   "display_name": "Python 3",
   "language": "python",
   "name": "python3"
  },
  "language_info": {
   "codemirror_mode": {
    "name": "ipython",
    "version": 3
   },
   "file_extension": ".py",
   "mimetype": "text/x-python",
   "name": "python",
   "nbconvert_exporter": "python",
   "pygments_lexer": "ipython3",
   "version": "3.7.3"
  }
 },
 "nbformat": 4,
 "nbformat_minor": 2
}
